{
 "cells": [
  {
   "cell_type": "markdown",
   "metadata": {
    "collapsed": true
   },
   "source": [
    "# Predicting Car Prices using K-Neighbors #\n",
    "\n",
    "In this project we will be predicting car values using the KNeighborsRegressor class.\n",
    "\n",
    "The dataset details:\n",
    "- symboling: -3, -2, -1, 0, 1, 2, 3.\n",
    "- normalized-losses: continuous from 65 to 256.\n",
    "- make: this includes car brands such as alfa-romero, audi, bmw, chevrolet,\n",
    "- dodge, honda etc.\n",
    "- fuel-type: diesel, gas.\n",
    "- aspiration: std, turbo.\n",
    "- num-of-doors: four, two.\n",
    "- body-style: hardtop, wagon, sedan, hatchback, convertible.\n",
    "- drive-wheels: 4wd, fwd, rwd.\n",
    "- engine-location: front, rear.\n",
    "- wheel-base: continuous from 86.6 120.9.\n",
    "- length: continuous from 141.1 to 208.1.\n",
    "- width: continuous from 60.3 to 72.3.\n",
    "- height: continuous from 47.8 to 59.8.\n",
    "- curb-weight: continuous from 1488 to 4066.\n",
    "- engine-type: dohc, dohcv, l, ohc, ohcf, ohcv, rotor.\n",
    "- num-of-cylinders: eight, five, four, six, three, twelve, two.\n",
    "- engine-size: continuous from 61 to 326.\n",
    "- fuel-system: 1bbl, 2bbl, 4bbl, idi, mfi, mpfi, spdi, spfi.\n",
    "- bore: continuous from 2.54 to 3.94.\n",
    "- stroke: continuous from 2.07 to 4.17.\n",
    "- compression-ratio: continuous from 7 to 23.\n",
    "- horsepower: continuous from 48 to 288.\n",
    "- peak-rpm: continuous from 4150 to 6600.\n",
    "- city-mpg: continuous from 13 to 49.\n",
    "- highway-mpg: continuous from 16 to 54.\n",
    "- price: continuous from 5118 to 45400.\n",
    "\n",
    "Our goal is to apply learned machine learning methodolgies and perform a test/test validation and a grid search to determine the best model and the optimal k-value to determine car prices. The dataset for this project is available [here](https://archive.ics.uci.edu/ml/datasets/automobile)."
   ]
  },
  {
   "cell_type": "code",
   "execution_count": 58,
   "metadata": {
    "collapsed": false,
    "scrolled": true
   },
   "outputs": [
    {
     "data": {
      "text/html": [
       "<div>\n",
       "<style scoped>\n",
       "    .dataframe tbody tr th:only-of-type {\n",
       "        vertical-align: middle;\n",
       "    }\n",
       "\n",
       "    .dataframe tbody tr th {\n",
       "        vertical-align: top;\n",
       "    }\n",
       "\n",
       "    .dataframe thead th {\n",
       "        text-align: right;\n",
       "    }\n",
       "</style>\n",
       "<table border=\"1\" class=\"dataframe\">\n",
       "  <thead>\n",
       "    <tr style=\"text-align: right;\">\n",
       "      <th></th>\n",
       "      <th>symboling</th>\n",
       "      <th>normalized-losses</th>\n",
       "      <th>make</th>\n",
       "      <th>fuel-type</th>\n",
       "      <th>aspiration</th>\n",
       "      <th>num-of-doors</th>\n",
       "      <th>body-style</th>\n",
       "      <th>drive-wheels</th>\n",
       "      <th>engine-location</th>\n",
       "      <th>wheel-base</th>\n",
       "      <th>...</th>\n",
       "      <th>engine-size</th>\n",
       "      <th>fuel-system</th>\n",
       "      <th>bore</th>\n",
       "      <th>stroke</th>\n",
       "      <th>compression-ratio</th>\n",
       "      <th>horsepower</th>\n",
       "      <th>peak-rpm</th>\n",
       "      <th>city-mpg</th>\n",
       "      <th>highway-mpg</th>\n",
       "      <th>price</th>\n",
       "    </tr>\n",
       "  </thead>\n",
       "  <tbody>\n",
       "    <tr>\n",
       "      <th>0</th>\n",
       "      <td>3</td>\n",
       "      <td>?</td>\n",
       "      <td>alfa-romero</td>\n",
       "      <td>gas</td>\n",
       "      <td>std</td>\n",
       "      <td>two</td>\n",
       "      <td>convertible</td>\n",
       "      <td>rwd</td>\n",
       "      <td>front</td>\n",
       "      <td>88.6</td>\n",
       "      <td>...</td>\n",
       "      <td>130</td>\n",
       "      <td>mpfi</td>\n",
       "      <td>3.47</td>\n",
       "      <td>2.68</td>\n",
       "      <td>9.0</td>\n",
       "      <td>111</td>\n",
       "      <td>5000</td>\n",
       "      <td>21</td>\n",
       "      <td>27</td>\n",
       "      <td>13495</td>\n",
       "    </tr>\n",
       "    <tr>\n",
       "      <th>1</th>\n",
       "      <td>3</td>\n",
       "      <td>?</td>\n",
       "      <td>alfa-romero</td>\n",
       "      <td>gas</td>\n",
       "      <td>std</td>\n",
       "      <td>two</td>\n",
       "      <td>convertible</td>\n",
       "      <td>rwd</td>\n",
       "      <td>front</td>\n",
       "      <td>88.6</td>\n",
       "      <td>...</td>\n",
       "      <td>130</td>\n",
       "      <td>mpfi</td>\n",
       "      <td>3.47</td>\n",
       "      <td>2.68</td>\n",
       "      <td>9.0</td>\n",
       "      <td>111</td>\n",
       "      <td>5000</td>\n",
       "      <td>21</td>\n",
       "      <td>27</td>\n",
       "      <td>16500</td>\n",
       "    </tr>\n",
       "    <tr>\n",
       "      <th>2</th>\n",
       "      <td>1</td>\n",
       "      <td>?</td>\n",
       "      <td>alfa-romero</td>\n",
       "      <td>gas</td>\n",
       "      <td>std</td>\n",
       "      <td>two</td>\n",
       "      <td>hatchback</td>\n",
       "      <td>rwd</td>\n",
       "      <td>front</td>\n",
       "      <td>94.5</td>\n",
       "      <td>...</td>\n",
       "      <td>152</td>\n",
       "      <td>mpfi</td>\n",
       "      <td>2.68</td>\n",
       "      <td>3.47</td>\n",
       "      <td>9.0</td>\n",
       "      <td>154</td>\n",
       "      <td>5000</td>\n",
       "      <td>19</td>\n",
       "      <td>26</td>\n",
       "      <td>16500</td>\n",
       "    </tr>\n",
       "    <tr>\n",
       "      <th>3</th>\n",
       "      <td>2</td>\n",
       "      <td>164</td>\n",
       "      <td>audi</td>\n",
       "      <td>gas</td>\n",
       "      <td>std</td>\n",
       "      <td>four</td>\n",
       "      <td>sedan</td>\n",
       "      <td>fwd</td>\n",
       "      <td>front</td>\n",
       "      <td>99.8</td>\n",
       "      <td>...</td>\n",
       "      <td>109</td>\n",
       "      <td>mpfi</td>\n",
       "      <td>3.19</td>\n",
       "      <td>3.40</td>\n",
       "      <td>10.0</td>\n",
       "      <td>102</td>\n",
       "      <td>5500</td>\n",
       "      <td>24</td>\n",
       "      <td>30</td>\n",
       "      <td>13950</td>\n",
       "    </tr>\n",
       "    <tr>\n",
       "      <th>4</th>\n",
       "      <td>2</td>\n",
       "      <td>164</td>\n",
       "      <td>audi</td>\n",
       "      <td>gas</td>\n",
       "      <td>std</td>\n",
       "      <td>four</td>\n",
       "      <td>sedan</td>\n",
       "      <td>4wd</td>\n",
       "      <td>front</td>\n",
       "      <td>99.4</td>\n",
       "      <td>...</td>\n",
       "      <td>136</td>\n",
       "      <td>mpfi</td>\n",
       "      <td>3.19</td>\n",
       "      <td>3.40</td>\n",
       "      <td>8.0</td>\n",
       "      <td>115</td>\n",
       "      <td>5500</td>\n",
       "      <td>18</td>\n",
       "      <td>22</td>\n",
       "      <td>17450</td>\n",
       "    </tr>\n",
       "  </tbody>\n",
       "</table>\n",
       "<p>5 rows × 26 columns</p>\n",
       "</div>"
      ],
      "text/plain": [
       "   symboling normalized-losses         make fuel-type aspiration num-of-doors  \\\n",
       "0          3                 ?  alfa-romero       gas        std          two   \n",
       "1          3                 ?  alfa-romero       gas        std          two   \n",
       "2          1                 ?  alfa-romero       gas        std          two   \n",
       "3          2               164         audi       gas        std         four   \n",
       "4          2               164         audi       gas        std         four   \n",
       "\n",
       "    body-style drive-wheels engine-location  wheel-base  ...    engine-size  \\\n",
       "0  convertible          rwd           front        88.6  ...            130   \n",
       "1  convertible          rwd           front        88.6  ...            130   \n",
       "2    hatchback          rwd           front        94.5  ...            152   \n",
       "3        sedan          fwd           front        99.8  ...            109   \n",
       "4        sedan          4wd           front        99.4  ...            136   \n",
       "\n",
       "   fuel-system  bore  stroke compression-ratio horsepower  peak-rpm city-mpg  \\\n",
       "0         mpfi  3.47    2.68               9.0        111      5000       21   \n",
       "1         mpfi  3.47    2.68               9.0        111      5000       21   \n",
       "2         mpfi  2.68    3.47               9.0        154      5000       19   \n",
       "3         mpfi  3.19    3.40              10.0        102      5500       24   \n",
       "4         mpfi  3.19    3.40               8.0        115      5500       18   \n",
       "\n",
       "  highway-mpg  price  \n",
       "0          27  13495  \n",
       "1          27  16500  \n",
       "2          26  16500  \n",
       "3          30  13950  \n",
       "4          22  17450  \n",
       "\n",
       "[5 rows x 26 columns]"
      ]
     },
     "execution_count": 58,
     "metadata": {},
     "output_type": "execute_result"
    }
   ],
   "source": [
    "import pandas as pd\n",
    "cols = ['symboling','normalized-losses','make','fuel-type', 'aspiration','num-of-doors','body-style','drive-wheels','engine-location','wheel-base','length','width','height','curb-weight','engine-type','num-of-cylinders','engine-size','fuel-system','bore','stroke','compression-ratio','horsepower','peak-rpm','city-mpg','highway-mpg','price']\n",
    "cars = pd.read_csv('imports-85.data',names = cols)\n",
    "cars.head(5)"
   ]
  },
  {
   "cell_type": "markdown",
   "metadata": {},
   "source": [
    "# Data Cleaning #"
   ]
  },
  {
   "cell_type": "code",
   "execution_count": 83,
   "metadata": {
    "collapsed": false
   },
   "outputs": [
    {
     "name": "stdout",
     "output_type": "stream",
     "text": [
      "   symboling  normalized-losses         make fuel-type aspiration  \\\n",
      "0        3.0              122.0  alfa-romero       gas        std   \n",
      "1        3.0              122.0  alfa-romero       gas        std   \n",
      "2        1.0              122.0  alfa-romero       gas        std   \n",
      "3        2.0              164.0         audi       gas        std   \n",
      "4        2.0              164.0         audi       gas        std   \n",
      "\n",
      "  num-of-doors   body-style drive-wheels engine-location  wheel-base   ...     \\\n",
      "0          two  convertible          rwd           front        88.6   ...      \n",
      "1          two  convertible          rwd           front        88.6   ...      \n",
      "2          two    hatchback          rwd           front        94.5   ...      \n",
      "3         four        sedan          fwd           front        99.8   ...      \n",
      "4         four        sedan          4wd           front        99.4   ...      \n",
      "\n",
      "   engine-size  fuel-system  bore  stroke compression-ratio horsepower  \\\n",
      "0        130.0         mpfi  3.47    2.68               9.0      111.0   \n",
      "1        130.0         mpfi  3.47    2.68               9.0      111.0   \n",
      "2        152.0         mpfi  2.68    3.47               9.0      154.0   \n",
      "3        109.0         mpfi  3.19    3.40              10.0      102.0   \n",
      "4        136.0         mpfi  3.19    3.40               8.0      115.0   \n",
      "\n",
      "   peak-rpm city-mpg highway-mpg    price  \n",
      "0      5000     21.0        27.0  13495.0  \n",
      "1      5000     21.0        27.0  16500.0  \n",
      "2      5000     19.0        26.0  16500.0  \n",
      "3      5500     24.0        30.0  13950.0  \n",
      "4      5500     18.0        22.0  17450.0  \n",
      "\n",
      "[5 rows x 26 columns]\n"
     ]
    }
   ],
   "source": [
    "import numpy as np\n",
    "cars.replace(to_replace='?', value = np.nan, inplace=True)\n",
    "#cars.info()\n",
    "cars = cars.replace('?',np.nan)\n",
    "num_cols = ['symboling','normalized-losses','wheel-base','length','width','height','curb-weight','engine-size','compression-ratio','horsepower','city-mpg','highway-mpg']\n",
    "cars[num_cols] = cars[num_cols].astype(float)\n",
    "cars['price'] = cars['price'].astype(float)\n",
    "\n",
    "#fill missing values with column mean values\n",
    "cars.fillna(cars.mean(), inplace = True)\n",
    "\n",
    "print(cars.head())\n"
   ]
  },
  {
   "cell_type": "code",
   "execution_count": 103,
   "metadata": {
    "collapsed": false
   },
   "outputs": [],
   "source": [
    "#normalizing numerical columns- 0-1 normalization\n",
    "\n",
    "normalized_cars = (cars[num_cols] - cars[num_cols].min())/ (cars[num_cols].max() - cars[num_cols].min())"
   ]
  },
  {
   "cell_type": "code",
   "execution_count": 85,
   "metadata": {
    "collapsed": false
   },
   "outputs": [],
   "source": [
    "normalized_cars['price'] = cars['price']"
   ]
  },
  {
   "cell_type": "markdown",
   "metadata": {},
   "source": [
    "# Univariate Model #"
   ]
  },
  {
   "cell_type": "code",
   "execution_count": 98,
   "metadata": {
    "collapsed": false
   },
   "outputs": [
    {
     "name": "stdout",
     "output_type": "stream",
     "text": [
      "7     4236.412909\n",
      "11    4475.468747\n",
      "6     4542.595770\n",
      "9     4946.351330\n",
      "10    5024.992477\n",
      "4     5174.104603\n",
      "3     5555.639867\n",
      "2     5874.202963\n",
      "8     7388.631597\n",
      "0     8019.454784\n",
      "1     8057.732689\n",
      "5     8436.882509\n",
      "dtype: float64\n"
     ]
    },
    {
     "data": {
      "image/png": "[encoded data removed]",
      "text/plain": [
       "<matplotlib.figure.Figure at 0x7f72bfde5e10>"
      ]
     },
     "metadata": {},
     "output_type": "display_data"
    }
   ],
   "source": [
    "from sklearn.neighbors import KNeighborsRegressor\n",
    "from sklearn.metrics import mean_squared_error\n",
    "from sklearn.model_selection import cross_val_score, KFold\n",
    "import matplotlib.pyplot as plt\n",
    "%matplotlib inline\n",
    "\n",
    "def knn_train_test(training_col, target_col,df,k=5):\n",
    "    knn = KNeighborsRegressor(k)\n",
    "    np.random.seed(1)\n",
    "    shuffled = np.random.permutation(df.index)\n",
    "    normalized_cars = df.reindex(shuffled)\n",
    "    train_cars = normalized_cars.iloc[0:96].copy()\n",
    "    test_cars = normalized_cars.iloc[96:].copy()\n",
    "    knn.fit(train_cars[training_col], train_cars[target_col])\n",
    "    predictions = knn.predict(test_cars[training_col])\n",
    "    mses = mean_squared_error(test_cars[target_col],predictions)\n",
    "    rmse = np.sqrt(mses)\n",
    "    return rmse\n",
    "\n",
    "rmse_all = pd.DataFrame()\n",
    "\n",
    "#rmse_all['features']= num_cols\n",
    "for k in [1,2,3,5,7,9]:\n",
    "    rmses = []\n",
    "    for col in num_cols:\n",
    "        col = [col]\n",
    "        rmses.append(knn_train_test(col,'price',normalized_cars,k))\n",
    "    rmse_all[k] = rmses\n",
    "\n",
    "for i,c in zip(range(0,len(rmse_all)), ['blue','green','yellow','red','pink','purple','black','brown','rosybrown','gray','olive']):\n",
    "    x = rmse_all.columns\n",
    "    y = rmse_all.loc[[i]]\n",
    "    plt.scatter(x,y, color = c)\n",
    "n_best_features = rmse_all.mean(axis=1).sort_values(ascending=True)\n",
    "print(n_best_features)"
   ]
  },
  {
   "cell_type": "markdown",
   "metadata": {},
   "source": [
    "## Multivariate Model ##\n",
    "\n",
    "In this model we use combinations of best features of the previous model with the default k value (5)"
   ]
  },
  {
   "cell_type": "code",
   "execution_count": 99,
   "metadata": {
    "collapsed": false
   },
   "outputs": [
    {
     "name": "stdout",
     "output_type": "stream",
     "text": [
      "2 features: 3456.9634127575023 3 features: 3149.6716294788935 4 features: 3529.122478338876 5 features: 3758.677255329484\n"
     ]
    }
   ],
   "source": [
    "rmse_2= knn_train_test(['engine-size','horsepower'],'price', normalized_cars)\n",
    "rmse_3 = knn_train_test(['engine-size','horsepower','highway-mpg'],'price',normalized_cars)\n",
    "rmse_4 = knn_train_test(['engine-size','horsepower','highway-mpg','curb-weight'],'price',normalized_cars)\n",
    "rmse_5= knn_train_test(['engine-size','horsepower','highway-mpg','curb-weight','width'],'price',normalized_cars)\n",
    "\n",
    "print('2 features:',rmse_2,'3 features:', rmse_3,'4 features:', rmse_4,'5 features:', rmse_5)\n",
    "\n"
   ]
  },
  {
   "cell_type": "code",
   "execution_count": 100,
   "metadata": {
    "collapsed": false
   },
   "outputs": [
    {
     "name": "stdout",
     "output_type": "stream",
     "text": [
      "{\n",
      "  \"4 best models\": {\n",
      "    \"1\": 3435.216173879409,\n",
      "    \"2\": 3199.247939799713,\n",
      "    \"3\": 3463.889753627331,\n",
      "    \"4\": 3804.643445494509,\n",
      "    \"5\": 3529.122478338876,\n",
      "    \"6\": 3658.744247948827,\n",
      "    \"7\": 3778.7290843510273,\n",
      "    \"8\": 3871.353158839808,\n",
      "    \"9\": 4045.7083668325063,\n",
      "    \"10\": 4057.0701085935148,\n",
      "    \"11\": 4142.910522864327,\n",
      "    \"12\": 4051.5370767344725,\n",
      "    \"13\": 4077.2302720043476,\n",
      "    \"14\": 4151.124658482259,\n",
      "    \"15\": 4278.778579393406,\n",
      "    \"16\": 4381.443979955056,\n",
      "    \"17\": 4467.660602117891,\n",
      "    \"18\": 4506.722551080046,\n",
      "    \"19\": 4592.454465837201,\n",
      "    \"20\": 4663.550014229498,\n",
      "    \"21\": 4726.051839653809,\n",
      "    \"22\": 4753.386889130332,\n",
      "    \"23\": 4773.21169896558,\n",
      "    \"24\": 4805.985940682427,\n",
      "    \"25\": 4816.842485630269\n",
      "  },\n",
      "  \"2 best models\": {\n",
      "    \"1\": 3568.9536738106126,\n",
      "    \"2\": 3241.2931296733077,\n",
      "    \"3\": 3272.8677912261583,\n",
      "    \"4\": 3351.9764371746883,\n",
      "    \"5\": 3456.9634127575023,\n",
      "    \"6\": 3794.534129421609,\n",
      "    \"7\": 3962.7194818081266,\n",
      "    \"8\": 4056.1664086122228,\n",
      "    \"9\": 4054.7112605470106,\n",
      "    \"10\": 4079.380413623861,\n",
      "    \"11\": 4284.719076084052,\n",
      "    \"12\": 4395.363599926444,\n",
      "    \"13\": 4535.490572693217,\n",
      "    \"14\": 4666.339476802433,\n",
      "    \"15\": 4797.390309742228,\n",
      "    \"16\": 4846.970711207483,\n",
      "    \"17\": 4893.586319789146,\n",
      "    \"18\": 4867.992912571475,\n",
      "    \"19\": 4922.936707403287,\n",
      "    \"20\": 4888.607551589113,\n",
      "    \"21\": 4911.713708678563,\n",
      "    \"22\": 4968.585691522875,\n",
      "    \"23\": 5042.415522924949,\n",
      "    \"24\": 5119.7211720198675,\n",
      "    \"25\": 5149.131055727215\n",
      "  },\n",
      "  \"3 best models\": {\n",
      "    \"1\": 3670.4991922964064,\n",
      "    \"2\": 3241.040040872451,\n",
      "    \"3\": 3229.6246545891345,\n",
      "    \"4\": 3252.3588758036676,\n",
      "    \"5\": 3149.6716294788935,\n",
      "    \"6\": 3486.121170413268,\n",
      "    \"7\": 3766.0517959171893,\n",
      "    \"8\": 3842.921564451045,\n",
      "    \"9\": 3939.7067648508964,\n",
      "    \"10\": 4151.167241606992,\n",
      "    \"11\": 4227.516321958598,\n",
      "    \"12\": 4309.280373323175,\n",
      "    \"13\": 4374.875200215108,\n",
      "    \"14\": 4407.222193703323,\n",
      "    \"15\": 4458.288194180551,\n",
      "    \"16\": 4543.845770888134,\n",
      "    \"17\": 4654.027797366609,\n",
      "    \"18\": 4656.735203246791,\n",
      "    \"19\": 4716.1734139948485,\n",
      "    \"20\": 4765.873637940473,\n",
      "    \"21\": 4792.624094243791,\n",
      "    \"22\": 4841.039942611584,\n",
      "    \"23\": 4858.94104026119,\n",
      "    \"24\": 4867.067840535738,\n",
      "    \"25\": 4892.219186969684\n",
      "  },\n",
      "  \"5 best models\": {\n",
      "    \"1\": 3965.8815003556597,\n",
      "    \"2\": 3415.2345833915033,\n",
      "    \"3\": 3489.283182724021,\n",
      "    \"4\": 3521.3487133696945,\n",
      "    \"5\": 3758.677255329484,\n",
      "    \"6\": 3915.063009060412,\n",
      "    \"7\": 4052.4948144261994,\n",
      "    \"8\": 4122.120046068075,\n",
      "    \"9\": 4229.7847730072735,\n",
      "    \"10\": 4281.91969300988,\n",
      "    \"11\": 4226.8316648946475,\n",
      "    \"12\": 4186.993831314977,\n",
      "    \"13\": 4219.272760668155,\n",
      "    \"14\": 4233.181231820567,\n",
      "    \"15\": 4306.494323577498,\n",
      "    \"16\": 4327.231835222364,\n",
      "    \"17\": 4366.494432630316,\n",
      "    \"18\": 4441.947397182906,\n",
      "    \"19\": 4526.1371781242015,\n",
      "    \"20\": 4561.301202674616,\n",
      "    \"21\": 4618.142800559287,\n",
      "    \"22\": 4704.832994694641,\n",
      "    \"23\": 4756.7058397183,\n",
      "    \"24\": 4770.499691101567,\n",
      "    \"25\": 4808.4176766086575\n",
      "  }\n",
      "}\n"
     ]
    }
   ],
   "source": [
    "from copy import copy\n",
    "h_p = [x for x in range(1,26)]\n",
    "rmse_hyp = {}\n",
    "r ={}\n",
    "best_models = ['engine-size','horsepower','highway-mpg','curb-weight','width']\n",
    "\n",
    "for j in range(2,6,1):   \n",
    "    for p in h_p:\n",
    "        r[p] = knn_train_test(best_models[:j],'price',normalized_cars,p)\n",
    "    #use copy so old values don't change in the dictionary\n",
    "    rmse_hyp['{} best models'.format(j)] = copy(r)\n",
    "\n",
    "#pretty print dictionary\n",
    "import json\n",
    "print(json.dumps(rmse_hyp, indent=2, default = str))"
   ]
  },
  {
   "cell_type": "code",
   "execution_count": 101,
   "metadata": {
    "collapsed": false
   },
   "outputs": [
    {
     "data": {
      "text/plain": [
       "<matplotlib.legend.Legend at 0x7f72bfe67ba8>"
      ]
     },
     "execution_count": 101,
     "metadata": {},
     "output_type": "execute_result"
    },
    {
     "data": {
      "image/png": "[encoded data removed]",
      "text/plain": [
       "<matplotlib.figure.Figure at 0x7f72bfdc5160>"
      ]
     },
     "metadata": {},
     "output_type": "display_data"
    }
   ],
   "source": [
    "for k,v in rmse_hyp.items():\n",
    "    x = list(v.keys())\n",
    "    y= list(v.values())\n",
    "    plt.plot(x,y, label='{}'.format(k))\n",
    "plt.xlabel('k-values')\n",
    "plt.ylabel('RMSE values')\n",
    "plt.legend()"
   ]
  },
  {
   "cell_type": "markdown",
   "metadata": {},
   "source": [
    "At k values 1 to 2, The RMSE values seem to have dropped before rising higher at higher k values. For the multivariate model, 3 best features with a k value of 5 seems to give us the best results in terms of errors in prediction."
   ]
  }
 ],
 "metadata": {
  "kernelspec": {
   "display_name": "Python 3",
   "language": "python",
   "name": "python3"
  },
  "language_info": {
   "codemirror_mode": {
    "name": "ipython",
    "version": 3
   },
   "file_extension": ".py",
   "mimetype": "text/x-python",
   "name": "python",
   "nbconvert_exporter": "python",
   "pygments_lexer": "ipython3",
   "version": "3.4.3"
  }
 },
 "nbformat": 4,
 "nbformat_minor": 2
}
